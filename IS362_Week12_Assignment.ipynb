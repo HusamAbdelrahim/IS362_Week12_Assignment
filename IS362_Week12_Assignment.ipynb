{
 "cells": [
  {
   "cell_type": "markdown",
   "id": "c5e9d949",
   "metadata": {},
   "source": [
    "# Author: Husam Abdelrahim\n",
    "\n",
    "# Week 12 - The Mushroom Dataset Preprocessing and Preping for the scikit-learn!\n",
    "\n",
    "## Introduction\n",
    "\n",
    "In this assignment we do have a main focus and that is the idea of preprocessing and we are going to be analyzing with what the UCI mushroom dataset has to provide, this data set is actually very signification especially to the data science field and what this dataset contains is that it has the highlights of mushroom species that is being presented and this is coming from the agaricus and the lepiota and what we are gonna do is that we are gonna see what is calssified as edible or poisonous, this data is very valuable and we are going to dive depper and see with what the charateristics comes with the mushroom and understand the edibility.\n",
    "\n",
    "The preprocessing raw data is really important because one the data itself isn't really clean so what we need to do is transform, make it more clean, and organize it, and being able to extract patterns that is presented, understand with what is the pattern and see if there any flaws or hidden in teh data itself\n",
    "\n",
    "So this is what I will be providing\n",
    "\n",
    "1. **The loading of the data and the exploration**: The structure and the contetn that is coming with the raw data\n",
    "2. **The features**: Being able to identify the feature and get the most critical attribtue that is provided in the work\n",
    "3. **data transformation**: we are going to be converting the the coes and make it have meanginful names and a representation with the numeric\n",
    "4. **Exploratory analysis**: We are going to quantify the realtionship between the features that is being presented and the target variables as well\n",
    "5. **Statistical analysis**: We are going to be understanding the relationship \n",
    "6. **The data step preperation**: We are going to be organizing the data and this is going to be critical for the our analyticial purposes\n",
    "\n",
    "So by the end of the project what is going to be occured is that we are going to basically going to have a strong coded mushroom and we are going to make this into a more informative and make it this ready and be able to provide key analysis in my work, it's going to help us show our understand with the mushroom and the characteristics that do come with but it's also gonna create a much more soldified work to utilize. "
   ]
  },
  {
   "cell_type": "markdown",
   "id": "5be008ec",
   "metadata": {},
   "source": [
    "## Importing Our Libaries\n",
    "\n",
    "**pandas** : Over here is where we are going to manipulate the data and turn our data into a DataFrame this is very important because we will need to basically convert into DataFrame\n",
    "\n",
    "**matplotlib**: I will be using this to present strong visualization and required for one of the step from the document which is to make a scatter plot!"
   ]
  },
  {
   "cell_type": "code",
   "execution_count": 29,
   "id": "c73bef90",
   "metadata": {},
   "outputs": [],
   "source": [
    "import pandas as pd\n",
    "import matplotlib.pyplot as plt"
   ]
  },
  {
   "cell_type": "markdown",
   "id": "b5671aea",
   "metadata": {},
   "source": [
    "## Step 1: The loading and exploring the dataset on what it offers\n",
    "\n",
    "What this initial step does for us is that it establishes a foundation so by transforming the raw daw that is unstrcutred and making it accesssible through a formation that can be utilized for possible examination, as I have stated that the UCI mushroom dataset does indeed represent a classification challenge at least in the data science realm, with containing 8,124 mushroom and with at least 23 attributes that is going to be encoded and in a single format\n",
    "\n",
    "So this data exploration is actually used in certain approaches:\n",
    "\n",
    "- **Dimensional analysis**: We identified the shape of the data and like I have said earlier there are 8,124 mushroom that comes with at least of 23 attribtures in my work so we know that we are working with data that is big and large but also that is complex and could be quite a challenge to work with.\n",
    "\n",
    "- **The Structural observation**: Once we start reveal the first few rows of the what it does for us is that it reveals the encoded nature of the attributes\n",
    "\n",
    "- **Data integerity**: As we can see from the link we already know that this is a huge issue with the data and that it's actually missing values showing this sign instead '?' so we really need to take proper measure and handle the issue \n",
    "\n",
    "This phase is really critical for what we are doing and making a preprocessing strategy to follows and as it continues to show that both of the dataset that is being presented does have potential value and limitations, by getting ot understand with what you are working with we can see and design the accessbility enchancement and the analytical utility as well. \n",
    "\n",
    "The identified missing values in the 'stalk-root' will basically need a subsequent steps, as there could be improper handling which would introduce a bias in our work or the other method would have to be to reduce the predictive power that is being made in our analysis, our approach what it will do is that it's going to blanace the information that is provided and teh data quality requirement "
   ]
  },
  {
   "cell_type": "code",
   "execution_count": 30,
   "id": "3e50459e",
   "metadata": {},
   "outputs": [
    {
     "name": "stdout",
     "output_type": "stream",
     "text": [
      "Dataset shape: (8124, 23)\n",
      "\n",
      "Display First 5 Rows:\n",
      "  class cap-shape cap-surface cap-color bruises odor gill-attachment  \\\n",
      "0     p         x           s         n       t    p               f   \n",
      "1     e         x           s         y       t    a               f   \n",
      "2     e         b           s         w       t    l               f   \n",
      "3     p         x           y         w       t    p               f   \n",
      "4     e         x           s         g       f    n               f   \n",
      "\n",
      "  gill-spacing gill-size gill-color  ... stalk-surface-below-ring  \\\n",
      "0            c         n          k  ...                        s   \n",
      "1            c         b          k  ...                        s   \n",
      "2            c         b          n  ...                        s   \n",
      "3            c         n          n  ...                        s   \n",
      "4            w         b          k  ...                        s   \n",
      "\n",
      "  stalk-color-above-ring stalk-color-below-ring veil-type veil-color  \\\n",
      "0                      w                      w         p          w   \n",
      "1                      w                      w         p          w   \n",
      "2                      w                      w         p          w   \n",
      "3                      w                      w         p          w   \n",
      "4                      w                      w         p          w   \n",
      "\n",
      "  ring-number ring-type spore-print-color population habitat  \n",
      "0           o         p                 k          s       u  \n",
      "1           o         p                 n          n       g  \n",
      "2           o         p                 n          n       m  \n",
      "3           o         p                 k          s       u  \n",
      "4           o         e                 n          a       g  \n",
      "\n",
      "[5 rows x 23 columns]\n",
      "\n",
      "The Missing Values('?')\n",
      "- stalk-root:\n"
     ]
    }
   ],
   "source": [
    "column_names = [\n",
    "    'class', 'cap-shape', 'cap-surface', 'cap-color', 'bruises', 'odor',\n",
    "    'gill-attachment', 'gill-spacing', 'gill-size', 'gill-color',\n",
    "    'stalk-shape', 'stalk-root', 'stalk-surface-above-ring',\n",
    "    'stalk-surface-below-ring', 'stalk-color-above-ring',\n",
    "    'stalk-color-below-ring', 'veil-type', 'veil-color',\n",
    "    'ring-number', 'ring-type', 'spore-print-color',\n",
    "    'population', 'habitat'\n",
    "]\n",
    "\n",
    "# we are going to use this file \n",
    "\n",
    "data = pd.read_csv('agaricus-lepiota.data', names=column_names, header=None)\n",
    "\n",
    "# what is going to be done here is that we are going to be displaying the basic info that is coming from the data itself\n",
    "\n",
    "print (\"Dataset shape:\", data.shape)\n",
    "print('\\nDisplay First 5 Rows:')\n",
    "print(data.head())\n",
    "\n",
    "# we are going to be checking for the missing vlaues that is being represented here which displays the ?\n",
    "\n",
    "missing_values = {col: (data[col] == '?').sum() for col in data.columns}\n",
    "if any(missing_values.values()):\n",
    "    print(\"\\nThe Missing Values('?')\")\n",
    "    for col, count in missing_values.items():\n",
    "        if count > 0:\n",
    "            print(f\"- {col}:\")"
   ]
  },
  {
   "cell_type": "markdown",
   "id": "bf2f6598",
   "metadata": {},
   "source": [
    "## Step 2: Creating a subset with the columns that is being provided\n",
    "\n",
    "In this step what is going to be done here is that we are going to a strategic decision preprocessing which what it will do for us is that it allows the focuses analysis on very critical attributues that is being displayed but also while being able to basically reducing the complexity that is being presented in my work so basically in this step we extract the three columns that I am going to be presenting.\n",
    "\n",
    "Here are the three crtical columns:\n",
    "\n",
    "1. **Class (edibility)**: What this is going to do for us is that it's going to see if the mushroom is actually edible or poisonous\n",
    "\n",
    "2. **Odor**: This is basically a sensory charateristic and this is basically importance especially since in this secanrio we are working with mushroom classification \n",
    "\n",
    "3. **Spore Print Color**: This is going to be a visual characteristic that is going to be chosen and basically shows any potential\n",
    "\n",
    "This feature that we are going to be using is basically going to offer several of the advantages that we are going to work with:\n",
    "\n",
    "- **Analysis focus**: This is going to help us with the understand the strong predcictors when it comes down to the ediblity\n",
    "\n",
    "- **Complexity reduction**: What this is going to be doing for us is that we are going to be simplifying the space from a 23 to 3 dimensions\n",
    "\n",
    "- **Interpretability enchancement**: What I will be doing is that to be creating a subset that is managemeable and getting ready for visualization basically getting to see a pattern that is going to be displayed\n",
    "\n",
    "The selection is basically going to be representing a hypothesis that is being and we get to see more information about the attribtutes that we are working with. While certain of the feature could have been employed, a certain amount of selection allows a focused exploration of mushroom charatertistics. \n",
    "\n",
    "What this does for us though is that it gives us a much more in depth investigation on what is going with the attributes that is displayed in the work and also the ediiblity, Which actually could be obscured and the decision and having the ability to include spore print what it does for us is that it actually creates an opportunity analysis.\n",
    "\n",
    "as we can see from the first rult, the same ple size is 8,124 mushroom and our goal is to basically strike a nice balance between the information preservation and teh analytical focus point that is being presented in the work. "
   ]
  },
  {
   "cell_type": "code",
   "execution_count": 31,
   "id": "f4beced2",
   "metadata": {},
   "outputs": [
    {
     "name": "stdout",
     "output_type": "stream",
     "text": [
      "\n",
      "Subset is created with the columns: ['edibility', 'odor', 'spore_print_color']\n"
     ]
    }
   ],
   "source": [
    "# next what we are going to be doing is that we are going to be select the class, the odor, and the spore print color\n",
    "\n",
    "subset_data = data[['class', 'odor', 'spore-print-color']].copy()\n",
    "\n",
    "subset_data.columns = ['edibility', 'odor', 'spore_print_color']\n",
    "print(\"\\nSubset is created with the columns:\", subset_data.columns.tolist())"
   ]
  },
  {
   "cell_type": "markdown",
   "id": "6a798ae0",
   "metadata": {},
   "source": [
    "## Step 3: We are going to be adding meaningful names for each of the columns\n",
    "\n",
    "So in the original dataset what we actually tend to see is that it uses single letter and what those letter would do is that it be a representation of the different attribute values what we really need to try to aim for is that we need to amek the data to be more interpretable, so what I have decided to do in this section is that I have decided to map these codes that is being provided to its actual meaning so this is what I am going to be providing in the work.\n",
    "\n",
    "The transformation uitlizes the mapping dictionaries\n",
    "\n",
    "This process offers many benefits in the work here are the process provided:\n",
    "\n",
    "- **Interpretability**: What this will do is that it will be replacing the cryptic codes that is presented and make it follow a lanague to understand on what it offers\n",
    "\n",
    "- **Analytical clarification**: This is more to faciliate a pattern that we can recongize throughout the work\n",
    "\n",
    "- **Communication**: This is going to basically help us display powerful information especially to those who aren't really familiar with certain technical levels\n",
    "\n",
    "The mapping basically what it represents is a knowledge integration, and this is where the coded are expanded into a **mycological** that we can use and also it fits much better overall. But with what this does for us is that it bridges the gap that is between teh data storage and the human cognitive processing\n",
    "\n",
    "Before we even tried to identify the pattern one thing that must be understod is that it requires  a lot of constant translation and the meanings of the code, one the transformation starts to take place the the recongition of the pattern actually gets to become more 'clear' and possible to disect and with the 5 labels it become more meaningful to see with how the labels are being displayed and this ehnchanced interpretability basically sets a way to be more effective and understanding the relationships between teh mushroom charactersics and the edibility, it can now be examined in a term that one can understand instead of trying to figure out with what the code does and how it's being provided. "
   ]
  },
  {
   "cell_type": "code",
   "execution_count": 32,
   "id": "cbfdaa0d",
   "metadata": {},
   "outputs": [
    {
     "name": "stdout",
     "output_type": "stream",
     "text": [
      "\n",
      "Data that has Meaningful Names:\n",
      "   edibility     odor spore_print_color\n",
      "0  poisonous  pungent             black\n",
      "1     edible   almond             brown\n",
      "2     edible    anise             brown\n",
      "3  poisonous  pungent             black\n",
      "4     edible     none             brown\n"
     ]
    }
   ],
   "source": [
    "# now in this section what we will be doing is that need make sure that we add meaning names for the columns as it is required\n",
    "# Having hte map codes to the names \n",
    "\n",
    "name_mappings = {\n",
    "    'edibility': {'e': 'edible', 'p': 'poisonous'},\n",
    "    'odor': {\n",
    "        'a': 'almond', 'l': 'anise', 'c': 'creosote', 'y': 'fishy',\n",
    "        'f': 'foul', 'm': 'musty', 'n': 'none', 'p': 'pungent', 's': 'spicy'\n",
    "    },\n",
    "    'spore_print_color': {\n",
    "        'k': 'black', 'n': 'brown', 'b': 'buff', 'h': 'chocolate',\n",
    "        'r': 'green', 'o': 'orange', 'u': 'purple', 'w': 'white', 'y': 'yellow'\n",
    "    }\n",
    "}\n",
    "\n",
    "# in this part what will be done is that I will be replacing the codes nad having it with a meaningful names\n",
    "\n",
    "for columnm, mapping in name_mappings.items():\n",
    "    subset_data[columnm] = subset_data[columnm].map(mapping)\n",
    "\n",
    "print(\"\\nData that has Meaningful Names:\")\n",
    "print(subset_data.head())\n"
   ]
  },
  {
   "cell_type": "markdown",
   "id": "dc226010",
   "metadata": {},
   "source": [
    "## Step 4: Replacing Codes with the Numeric Values\n",
    "\n",
    "In this step what is going to happen is that we need to transform certain data into a numeric format and this is very important especially for trying to make an analysis What this step is going to is basically use two distinct encoding strategies that will be applied to variable types:\n",
    "\n",
    "1. **Binary encoding for the target variable**:\n",
    "\n",
    "    - Edibility is going to be transformed to a binary numeric presentation (edible -> 0, poisonous -> 1)\n",
    "    - This approach will basically being able to peserve the binary classification nature while being able to the computional analysis that is being provided.\n",
    "\n",
    "\n",
    "2.  **One - hot encoding and the feature**\n",
    "\n",
    "    - The odor and the spore are going to be converted into a indicator of the binary\n",
    "    - Each of the categorical elvel will basically become a seperate column and this is going to be dsipalying output like true or false\n",
    "\n",
    "The encoding process is going to involve certain several techinal consideration\n",
    "\n",
    "- **Dimensionality expansion**: What is going on here is that there are going to be 3 columns and that is going to eventually open up to 17 feature columsn and with 1 target column that is being presented\n",
    "\n",
    "- **A false representation**: We see that on the output that there is going to be more false and this is basically creating a matrix\n",
    "\n",
    "- **the perservation of the information**: So the transformation will basically retain all the information that is being presented without really having a major change \n",
    "\n",
    "- **Analysis compatibility**: The resulting format is basically going to be compatiable and basically a visualizations method that is going to be used\n",
    "\n",
    "So of course we are going to use Pandas and the **'get_dummies()'**  function what it will do for us is that it's going to trasnform very effectively and it's going to be creating an indicator variables for each of the category level that is being presented, this is going help us avoid any major fallback when it comes down to the label encoding, and this would usually impose on which of the artifical relationship that is between the categories\n",
    "\n",
    "The result dataset will maintain an information of course that isn't altered with and we are basically going to perserve the original and we are going to transition to a format that is actually going to be good for the computational analysis, this transformation is basically going to be important for the analysis and the visualization in the subsequent steps.\n",
    "\n",
    "The first three rows will show the the transformation, and each of the mushroom will be representing as a pattern of the binary indicators that is being shown across the expanded feature space.\n"
   ]
  },
  {
   "cell_type": "code",
   "execution_count": 33,
   "id": "8db3e932",
   "metadata": {},
   "outputs": [
    {
     "name": "stdout",
     "output_type": "stream",
     "text": [
      "\n",
      "Encoded data (first 3 rows):\n",
      "   odor_almond  odor_anise  odor_creosote  odor_fishy  odor_foul  odor_musty  \\\n",
      "0        False       False          False       False      False       False   \n",
      "1         True       False          False       False      False       False   \n",
      "2        False        True          False       False      False       False   \n",
      "\n",
      "   odor_none  odor_pungent  odor_spicy  spore_black  spore_brown  spore_buff  \\\n",
      "0      False          True       False         True        False       False   \n",
      "1      False         False       False        False         True       False   \n",
      "2      False         False       False        False         True       False   \n",
      "\n",
      "   spore_chocolate  spore_green  spore_orange  spore_purple  spore_white  \\\n",
      "0            False        False         False         False        False   \n",
      "1            False        False         False         False        False   \n",
      "2            False        False         False         False        False   \n",
      "\n",
      "   spore_yellow  edibility_numeric  \n",
      "0         False                  1  \n",
      "1         False                  0  \n",
      "2         False                  0  \n"
     ]
    }
   ],
   "source": [
    "# the next that is required ist hat we are going to convert ediblity to a numeric level\n",
    "\n",
    "subset_data['edibility_numeric'] = subset_data['edibility'].map({'edible': 0, 'poisonous': 1})\n",
    "\n",
    "# now here what we have is the encode of the variable\n",
    "\n",
    "odor_encoded = pd.get_dummies(subset_data['odor'], prefix = 'odor')\n",
    "spore_encoded = pd.get_dummies(subset_data['spore_print_color'], prefix = 'spore')\n",
    "\n",
    "# now what is going to be done herei s that we are going to basically combine the column that is in coded and with the target variable\n",
    "\n",
    "encoded_data = pd.concat([odor_encoded, spore_encoded, subset_data['edibility_numeric']], axis=1)\n",
    "encoded_data.rename(columns = {'edibility_numeric' : 'edibility_numeric'}, inplace=True)\n",
    "\n",
    "print(\"\\nEncoded data (first 3 rows):\")\n",
    "print(encoded_data.head(3))"
   ]
  },
  {
   "cell_type": "markdown",
   "id": "567c7054",
   "metadata": {},
   "source": [
    "## Step 5: The exploring aspect of the data analysis provided \n",
    "\n",
    "In this step with what is going to be done is that we are going to apply tehnciques and visualization and this is going to be very important for what we are going to be working with identifying and discovering patterns, see if there is any aanomalies that could be presented in my work and basically have an understanding relationship when it comes down to the preprocessed data. This systematic what it does is that it unveils and gives us a structure of the mushroom and association with the ediblity."
   ]
  },
  {
   "cell_type": "code",
   "execution_count": 34,
   "id": "bdd6e92d",
   "metadata": {},
   "outputs": [
    {
     "name": "stdout",
     "output_type": "stream",
     "text": [
      "\n",
      "Distriibution of the mushroom edibility:\n",
      "edibility\n",
      "edible       4208\n",
      "poisonous    3916\n",
      "Name: count, dtype: int64\n",
      "Percentage edible: 51.8%\n",
      "Percentage poisonous: 48.2%\n"
     ]
    }
   ],
   "source": [
    "# in the next step here with what is going to be done is that we will be distributing of the edibility\n",
    "\n",
    "edibility_counts = subset_data['edibility'].value_counts()\n",
    "print(\"\\nDistriibution of the mushroom edibility:\")\n",
    "print(edibility_counts)\n",
    "print(f\"Percentage edible: {edibility_counts['edible']/len(subset_data)*100:.1f}%\")\n",
    "print(f\"Percentage poisonous: {edibility_counts['poisonous']/len(subset_data)*100:.1f}%\")"
   ]
  },
  {
   "cell_type": "markdown",
   "id": "1288cbf7",
   "metadata": {},
   "source": [
    "# Step 5.1: The distribution of the edibility\n",
    "\n",
    "So for the first analytical focus we are going to look at the class distribution that is being presented in the dataset that we are working with:\n",
    "\n",
    "- **Statistical balance**: 51.8% of the musroom seems to be edible but if now looking at hte poisonous it's actually 48.2% so we can see that it's clsoe to a balance which next step we talk about the visualization appraoch\n",
    "\n",
    "- **Visualizaition** : The bar is going to show visual that basically confirms that there is a near equal distribution between the two.\n",
    "\n",
    "- **Analytical implications**: This is going to basically balance nature of the classes and it's going to ensure that the pattern isn't imbalanced or there isn't any of the bias that could be presented in the work\n",
    "\n",
    "What this does for us is that it gives a better understanding of the subsequent findings, and basically its going to be establishing a class that is dominating the dataset. The equal distrubtion is very valuable for the pattern discvoery and it does reduce the risk of any anaomly that could be presenting in the work. "
   ]
  },
  {
   "cell_type": "code",
   "execution_count": 35,
   "id": "bf8b80cf",
   "metadata": {},
   "outputs": [
    {
     "data": {
      "image/png": "[encoded data removed]",
      "text/plain": [
       "<Figure size 800x500 with 1 Axes>"
      ]
     },
     "metadata": {},
     "output_type": "display_data"
    }
   ],
   "source": [
    "# now it's time to create nice visualiation for the edibility of the distribution \n",
    "plt.figure(figsize=(8, 5))\n",
    "edibility_counts.plot(kind='bar')\n",
    "plt.title('Distribution of Mushroom Edibility')\n",
    "plt.xlabel('Edibility')\n",
    "plt.ylabel('Count')\n",
    "plt.xticks(rotation=0)\n",
    "plt.savefig('edibility_distribution.png')\n",
    "plt.show()\n",
    "plt.close()"
   ]
  },
  {
   "cell_type": "markdown",
   "id": "b88b8c6e",
   "metadata": {},
   "source": [
    "## 5.2 The relationship between the odor and the edibility that is being presented\n",
    "\n",
    "So this bar chart what it's going to do for us is that it's actually going to be revealing and very strong and sensible pattern and basicially show on how the odor relates to the edibility. For more context some odors for example (almond and anise) are usually assocaited with the edible mushrooms but the others such as (fishy, foul, and pungent) are very and highly associated with poisonous mushroom that is being presented.\n",
    "\n",
    "The odor and the diblity is going to be reavaling a classification pattern that is going to be presented\n",
    "\n",
    "- **The predictors that we are working with**: There are several of the odors that tend to show a 100% association that is going to come with the ediblity or the toxicity\n",
    "    - almond and anise odors -> are acutally 100% edible!\n",
    "    - Others on the hand like cresote, fishy, foul, musty, pungent, and spicy odors -> are actually 100% poisonous\n",
    "\n",
    "- **Creating a strong predictors**: Odorless mushrooms are basically very edible with a 96.6% \n",
    "\n",
    "- **Visualizaion**: We see that there is a seperation and the odor categories indications that there is a such a high amount of predicitive power that is being presented in the work\n",
    "\n",
    "the visualization basically shows the pattern and we that the a sungle colored bars display an odor with a powerful feature and this finding is actually high in terms of value and the odor can be accessible characteric that can be assessed without really having to specialized equipment in the work.\n",
    "\n"
   ]
  },
  {
   "cell_type": "code",
   "execution_count": 36,
   "id": "e4c79ab3",
   "metadata": {},
   "outputs": [
    {
     "data": {
      "text/plain": [
       "<Figure size 1000x600 with 0 Axes>"
      ]
     },
     "metadata": {},
     "output_type": "display_data"
    },
    {
     "data": {
      "image/png": "[encoded data removed]",
      "text/plain": [
       "<Figure size 640x480 with 1 Axes>"
      ]
     },
     "metadata": {},
     "output_type": "display_data"
    }
   ],
   "source": [
    "# now we are going to see the relationship that is between the odor and the edibility \n",
    "\n",
    "plt.figure(figsize=(10, 6))\n",
    "pd.crosstab(subset_data['odor'], subset_data['edibility']).plot(kind='bar')\n",
    "plt.title('Relationship between Odor and Edibility')\n",
    "plt.xlabel('Odor')\n",
    "plt.ylabel('Count')\n",
    "plt.legend(title='Edibility')\n",
    "plt.xticks(rotation=45)\n",
    "plt.tight_layout()\n",
    "plt.savefig('odor_vs_edibility.png')\n",
    "plt.show()\n",
    "plt.close()"
   ]
  },
  {
   "cell_type": "markdown",
   "id": "0eac9100",
   "metadata": {},
   "source": [
    "## Step 5.3: The relationship between the spore and the edibility \n",
    "\n",
    "So the spore print color is going to be revealing a much more predicitve patterns that is strong and he are the patterns that it's going to show\n",
    "\n",
    "- **The predictors displayed** : Several of the colors that is being presented with the work is actualy a 100% association with the ediibility as shown here:\n",
    "    - Green -> 100% poisonous\n",
    "    - Buff, orange, purple yellow -> 100% edible\n",
    "\n",
    "- **The strong predictors that is going to be displayed in the work**:\n",
    "    - Chocolate -> approx 97.1% posionous\n",
    "    - White -> a 75.9 poisonous\n",
    "    - Black & Brown -> would be somewhat are the 88-88.6% range of the edible\n",
    "\n",
    "**Visualization method**: This group bar what it's doing is that it's shwoing a strength and that is being shown in the work and the assocation and basically what is going to be show is the strength accross the color categories\n",
    "\n",
    "**Pattern complexity**: This is going to mix the distrubtuion than the odor that is being presented and a strong potential\n",
    "\n",
    "The visualization reveal show is that while the spore print color does offer a predictive power that is being preseides it does offer other options as well but it really dpeends on the speific color, this is basically a valuable assessing the reliablity the classification based on the characterisitc so this is really good information to know and basically getting to intake as well!"
   ]
  },
  {
   "cell_type": "code",
   "execution_count": 37,
   "id": "ebebf6a5",
   "metadata": {},
   "outputs": [
    {
     "data": {
      "text/plain": [
       "<Figure size 1000x600 with 0 Axes>"
      ]
     },
     "metadata": {},
     "output_type": "display_data"
    },
    {
     "data": {
      "image/png": "[encoded data removed]",
      "text/plain": [
       "<Figure size 640x480 with 1 Axes>"
      ]
     },
     "metadata": {},
     "output_type": "display_data"
    }
   ],
   "source": [
    "# now we are going to see the relationship that is being occured with the spore and the ediblity !\n",
    "plt.figure(figsize=(10, 6))\n",
    "pd.crosstab(subset_data['spore_print_color'], subset_data['edibility']).plot(kind='bar')\n",
    "plt.title('Relationship between Spore Print Color and Edibility')\n",
    "plt.xlabel('Spore Print Color')\n",
    "plt.ylabel('Count')\n",
    "plt.legend(title='Edibility')\n",
    "plt.xticks(rotation=45)\n",
    "plt.tight_layout()\n",
    "plt.savefig('spore_vs_edibility.png')\n",
    "plt.show()\n",
    "plt.close()"
   ]
  },
  {
   "cell_type": "code",
   "execution_count": 38,
   "id": "389fad6f",
   "metadata": {},
   "outputs": [],
   "source": [
    "# now what is going to be done here is that we are going to be creating a numeric mapping for the variables that is being presented \n",
    "\n",
    "odor_mapping = {odor: i for i, odor in enumerate(subset_data['odor'].unique())}\n",
    "spore_mapping = {color: i for i, color in enumerate(subset_data['spore_print_color'].unique())}\n",
    "\n",
    "subset_data['odor_num'] = subset_data['odor'].map(odor_mapping)\n",
    "subset_data['spore_num'] = subset_data['spore_print_color'].map(spore_mapping)"
   ]
  },
  {
   "cell_type": "markdown",
   "id": "130a1a74",
   "metadata": {},
   "source": [
    "## Step 5.4 : The Scatter Plot: Odor vs Spore Print Color\n",
    "\n",
    "The scatter plot visualization is going to basically eplore the relationship the two features that is being provided i nteh work so let's start to display it:\n",
    "\n",
    "- **Dimension of the mapping** : This is going to show a numeric ecoding which the odor this is going to be in (x-axis) but the spore print color is going to be in (y-axis)\n",
    "\n",
    "- **Class differeation**: So the points that are colored is basically gonna show the ediblity class\n",
    "\n",
    "- **The pattern observation that is being provided**: we see a clear edible and poisonous mushrooms in a feature space\n",
    "\n",
    "- **complementary info**: and this is going to basically reveal the charateristics and show the edibility \n",
    "\n",
    "The analysis that is being shown here is basically we see the combinations that does creat a distinctive cluster that is featured speace. The visualization what it does is that it shows the power if the considerations of the multiple attributes when it comes down to the purposes of the classification\n",
    "\n",
    "Through the analytical lenses we see that once the data is preprocessed it gives us insights about the mushroom edibility and the visualization will basically not only but the tool is being used for communication devices that make complex patterns and make them stand out and make it be more apparent"
   ]
  },
  {
   "cell_type": "code",
   "execution_count": 39,
   "id": "5abcecc5",
   "metadata": {},
   "outputs": [
    {
     "data": {
      "image/png": "[encoded data removed]",
      "text/plain": [
       "<Figure size 1000x600 with 1 Axes>"
      ]
     },
     "metadata": {},
     "output_type": "display_data"
    }
   ],
   "source": [
    "# we are going to be creating a scatter plot in this section\n",
    "\n",
    "plt.figure(figsize=(10, 6))\n",
    "for edibility in ['edible', 'poisonous']:\n",
    "    mask = subset_data['edibility'] == edibility\n",
    "    plt.scatter(\n",
    "        subset_data.loc[mask, 'odor_num'], \n",
    "        subset_data.loc[mask, 'spore_num'],\n",
    "        label=edibility,\n",
    "        alpha=0.6\n",
    "    )\n",
    "\n",
    "plt.xlabel('Odor')\n",
    "plt.ylabel('Spore Print Color')\n",
    "plt.title('Scatter Plot: Odor vs Spore Print Color')\n",
    "plt.legend()\n",
    "plt.tight_layout()\n",
    "plt.savefig('odor_vs_spore_scatter.png')\n",
    "plt.show()\n",
    "plt.close()"
   ]
  },
  {
   "cell_type": "markdown",
   "id": "85e1f208",
   "metadata": {},
   "source": [
    "## Step 6: The stats analytic of the relationship provided\n",
    "\n",
    "So now to focus on the relationship and getting to observe with what is going on in our visualization, what is being done is that we start to calculate the percentage for each of the odor and each of the spore print color when it comes down to the edible/poisonous mushrooms\n",
    "\n",
    "These tabs with being providing a metric on how each of the feature value is being associated with the edibility."
   ]
  },
  {
   "cell_type": "markdown",
   "id": "a556d87b",
   "metadata": {},
   "source": [
    "### 6.1 Odor Edibility\n",
    "\n",
    "Here we are going to basically see with how the rows prduces a precise information/quanitifcation of the edibility of the rates by the odor that is being provided\n",
    "\n",
    "- **the statistical method**: This is going to be a normalized ocontingency table (this is going to to be a percent distribution with each of the odor and the category)\n",
    "\n",
    "- **The advantage of the precision**: This is going to basically convert the impression into percentavalues \n",
    "\n",
    "- **key finding in the the work**\n",
    "    - Almond, anise -> 100% edible\n",
    "    - Creosote, fishy, foul, musty, pungent, spicy -> 100.0% going to be poisonous \n",
    "    - No dor -> 96.6% EDIBLE, 3.4% POISONOUS \n",
    "\n",
    "This statistical analysis that we are going to be working with basically show the strengh and the realtionship that is being show on a visual level and provide the probabilities when it comes down to the ediblity that is associated with the each odor fcategory, this is going to count data into probability distribution that comes with different frequencies"
   ]
  },
  {
   "cell_type": "code",
   "execution_count": 40,
   "id": "77a8a3cc",
   "metadata": {},
   "outputs": [
    {
     "name": "stdout",
     "output_type": "stream",
     "text": [
      "\n",
      "Percentage of edible/poisonous mushrooms by odor:\n",
      "edibility  edible  poisonous\n",
      "odor                        \n",
      "almond      100.0        0.0\n",
      "anise       100.0        0.0\n",
      "creosote      0.0      100.0\n",
      "fishy         0.0      100.0\n",
      "foul          0.0      100.0\n",
      "musty         0.0      100.0\n",
      "none         96.6        3.4\n",
      "pungent       0.0      100.0\n",
      "spicy         0.0      100.0\n"
     ]
    }
   ],
   "source": [
    "# for this step what we are going to be doing is calculating the percentage of edible and poisonuous for each of the odor that is being presented \n",
    "\n",
    "odor_edibility = pd.crosstab(\n",
    "    subset_data['odor'], \n",
    "    subset_data['edibility'], \n",
    "    normalize='index'\n",
    ").round(3) * 100\n",
    "\n",
    "print(\"\\nPercentage of edible/poisonous mushrooms by odor:\")\n",
    "print(odor_edibility)"
   ]
  },
  {
   "cell_type": "markdown",
   "id": "db0b1d85",
   "metadata": {},
   "source": [
    "### 6.2 Spore Print cOLOR\n",
    "\n",
    "This is going to show the ediblity rates this categorized by the color:\n",
    "\n",
    "- **The statisical appraoch**: A normalized table with that is showing a precentage distrubtion \n",
    "\n",
    "- **A measurement precision that is show**: Thati s basically show the exact quantification of the relationship strength\n",
    "\n",
    "- **A notable positon**:\n",
    "    - green -> 100.0% poisonous\n",
    "    - Buff, orange, purple, yellow -> 100.0% edible\n",
    "    - White -> 24,1% edible 75.9% poisonous\n",
    "    - Black -> 88.0% edible, 12.0% poisonous\n",
    "    - Brown -> 88.6% edible, 11.4% poisonous\n",
    "\n",
    "The stats quanification basically is going to be extending beyond the visual and going to be providin gthe exame measure when it comes down to hte assocaition, what the percentages values tends to offer is an assessment of the reliablity of the spore print that is being provided. \n",
    "\n",
    "The statsical tables serve multiple many analytic purpose that could be used:\n",
    "\n",
    "1. **Confirmating**: Basically validating the pattern that is being observed in the visualizations\n",
    "2. **Precision**: The ability to provide the exact numbers instead of having like a appoximations of the precision that is being provided \n",
    "3. **Comapraibility**: This is going to be allow a comparision that is being made with the strength across the categories\n",
    "4. **Decision**: Basically to offer an assemeent that is very useful for the decision of the classification\n",
    "\n",
    "By getting to transform the realtionships into a much more probability of the distribution, the statistical analysis that is going to be completing the picture, and being able to provide both visual patterns (as we have seen earlier) and a understanding of hte pattern when it comes down to the quanitifcation and the analyation "
   ]
  },
  {
   "cell_type": "code",
   "execution_count": 41,
   "id": "fcc5986a",
   "metadata": {},
   "outputs": [
    {
     "name": "stdout",
     "output_type": "stream",
     "text": [
      "\n",
      "Percentage of edible/poisonous mushrooms by spore print color:\n",
      "edibility          edible  poisonous\n",
      "spore_print_color                   \n",
      "black                88.0       12.0\n",
      "brown                88.6       11.4\n",
      "buff                100.0        0.0\n",
      "chocolate             2.9       97.1\n",
      "green                 0.0      100.0\n",
      "orange              100.0        0.0\n",
      "purple              100.0        0.0\n",
      "white                24.1       75.9\n",
      "yellow              100.0        0.0\n"
     ]
    }
   ],
   "source": [
    "# in this step what we are going to be doing is that we are actually going to Calcualte teh percentage that is edible or poisnous regardless for the each of the spore that is being presented\n",
    "\n",
    "spore_edibility = pd.crosstab(\n",
    "    subset_data['spore_print_color'], \n",
    "    subset_data['edibility'], \n",
    "    normalize='index'\n",
    ").round(3) * 100\n",
    "\n",
    "print(\"\\nPercentage of edible/poisonous mushrooms by spore print color:\")\n",
    "print(spore_edibility)"
   ]
  },
  {
   "cell_type": "markdown",
   "id": "9f26a39a",
   "metadata": {},
   "source": [
    "# Step 7: Preparing the data for the scikit-learn in Project 4 Req\n",
    "\n",
    "The final preprocessing step what we are going to do here is transform this data into a much more strcutred and optimized work for the the analytical applciation and this step is very important of course and the feature variable will actually be seperated from the target variable and it's going to be creating a distinct object\n",
    "\n",
    "The prepartion of the process will includes:\n",
    "\n",
    "- **Feature of the target sepration that is presented**: We are going to be diviing the encoded data set that we have with the features of the x  and the target being the y\n",
    "- **The formation** : We are going to be oranizting the features so the rows is 8,124 as it was displayed earlier and we are going to have 18 columns and teh work was done ealier\n",
    "- **The extraction**: I'm going to basically target the variable as a 1 dimensional array \n",
    "- **data verification**: We are going to be confirming the contents and the shapes that is being output and resulting object\n",
    "\n",
    "The feature (X) what is going to be containing the one hot econded variables and this is the structure that is going to be displayed\n",
    "\n",
    "- **Rows**: 8,124 mushrooms\n",
    "- **Columns**: 18 binary indactor so we are going to have 9 of the odor types and the 9 for the spore print colors\n",
    "- **Values**: The boolean (true/false) it will be indicationg the presence and the absence of the charateristic\n",
    "\n",
    "The tager vector which is going to be our (y)L\n",
    "\n",
    "**Length**: The 8,124 elements that is being presented\n",
    "**Values**: This is going to be a binary indicator (0 = edible, 1 = poisonous)\n",
    "\n",
    "This structure fomration we will give a more serveral advantages and what is going to be done:\n",
    "\n",
    "1. **Analytical compatiaiblity**: This is basically going to conform with the data science work and being able to understnad with the how this can be used\n",
    "2. **Processing and the effiencey**: this is going to be used and optimized for a computaial operation!\n",
    "3. **Implementation readiness**: Being prepared for the immediate use in teh analytical applications\n",
    "4. **methodligcal clarity**: a clear sepration of the predictors and outcome"
   ]
  },
  {
   "cell_type": "code",
   "execution_count": 42,
   "id": "8f56f3ff",
   "metadata": {},
   "outputs": [
    {
     "name": "stdout",
     "output_type": "stream",
     "text": [
      "Column names in encoded_data: ['odor_almond', 'odor_anise', 'odor_creosote', 'odor_fishy', 'odor_foul', 'odor_musty', 'odor_none', 'odor_pungent', 'odor_spicy', 'spore_black', 'spore_brown', 'spore_buff', 'spore_chocolate', 'spore_green', 'spore_orange', 'spore_purple', 'spore_white', 'spore_yellow', 'edibility_numeric']\n",
      "\n",
      "Features matrix shape (X): (8124, 18)\n",
      "Target vector shape (y): (8124,)\n",
      "\n",
      "The data is now ready for training a scikit-learn model in Project 4.\n"
     ]
    }
   ],
   "source": [
    "# for this next step we will basically prepare scikit-learn which is basically required for project 4 purposes!\n",
    "\n",
    "print(\"Column names in encoded_data:\", encoded_data.columns.tolist())\n",
    "\n",
    "\n",
    "X = encoded_data.drop('edibility_numeric', axis=1)\n",
    "y = encoded_data['edibility_numeric']\n",
    "\n",
    "print(\"\\nFeatures matrix shape (X):\", X.shape)\n",
    "print(\"Target vector shape (y):\", y.shape)\n",
    "\n",
    "print(\"\\nThe data is now ready for training a scikit-learn model in Project 4.\")\n"
   ]
  },
  {
   "cell_type": "markdown",
   "id": "382e3ecb",
   "metadata": {},
   "source": [
    "## Results and Analysis\n",
    "\n",
    "In our analysis we start to see a pattern that has been revealed and that it actually provides a good of of insights and shows the relationship between the mushroom characteristics and the edibility\n",
    "\n",
    "### Key Findings:\n",
    "\n",
    "1. **Odor the primary indicator**\n",
    "\n",
    "So in our analysis it demostrates that the odor is a very strong predictor and it shows several of the categories and displays potentions\n",
    "    - We know that **almond** and **anise** odrs are actually edible mushrooms sitting at a 100%\n",
    "    - We then have the creosote, fishy, foul, pungent, and the spicy odors and what THOSE show is that they show a posionous\n",
    "    - The mushroom that are considered 'ordorless' are majority edible sitting at a 96.6%\n",
    "\n",
    "What this finding will do for us is that the odor shows a characterisitcs that is assesed in the field without really having equipment and possibly a first line indicator for the foragers of the mush room\n",
    "\n",
    "2. **Spore print color our second indicator**\n",
    "\n",
    "So the spore print color it's also going to be showing a strong predictive power and show more variation odor:\n",
    "\n",
    "- The green spore print will basically show that it's trying to indicate that most likely it's a posionous mushroom\n",
    "- The chocolate spore it shows that it's mostly poisonous sitting at a 97.1%\n",
    "- The buff, orange, purple, and the yellow spre are actually edible mushroom with a percentage of 100%\n",
    "- The white spores does have some sort of poisonous varieties that sits around a 75.9%\n",
    "- The black and brown shows a frong strong tendency that is going to be toward the edibility so this is basically sitting at respectively -> 88.0% and the 88.6%\n",
    "\n",
    "3. **Combined feature of the analysis**:\n",
    "\n",
    "What the scatter plot is showing is basically showing off the visualization of the odor vs the spore print color and it actually reveals a lot especially in terms of the patterns, and this is basically going to be indicating there there is a certain combination that is going on with the two attribtures. \n",
    "\n",
    "4. **The data transfomration**:\n",
    "\n",
    "The preprocessing pipeline that is being show here is that we managed to transform a single letter code data set and we gave a more meaningful and we actually made it more presentable which could be easier for us to actually understand the analysis making this very approachable."
   ]
  },
  {
   "cell_type": "markdown",
   "id": "79fcc506",
   "metadata": {},
   "source": [
    "## The Visualization Interpretation:\n",
    "\n",
    "In the visualization analysis that we have managed to get, it actually shows and provides a purpose for us to review! \n",
    "\n",
    "- The edibility distrubtion basically makes us understand with what is going with the balance that is being provided\n",
    "- The odor vs the edibility and then we have the spore print color vs the edibility and it reaveals the realtionship that is being between the individual featues and the target variable\n",
    "- The scatter plot and giving us the insight of the relationship between two features\n",
    "\n",
    "These visual representations is going to transform abstract data patterns into the intuitive and the insights clearly communicates the strength of these attibute has! "
   ]
  },
  {
   "cell_type": "markdown",
   "id": "da361915",
   "metadata": {},
   "source": [
    "## Conclusion\n",
    "\n",
    "In conclusion what we have done in this work is that we have manage to transform the code the data that is coming from the UCI - Mushroom and we made this to be more analytical ready format and basically we are also going to be revealing patterns in regards to the edibility of the mushroom. Through the preprocessing and the analysis, we have manage to see a pattern and strong relationships is actually being shown with the mushroom characteristics and the classification of the mushroom and finding out what is edible or poisonous\n",
    "\n",
    "Based on the exploratory data analysis that we have here we notice that both **odor** and **spore** show a really dominate predictive power when it comes down to the mushroom edibility, So we notice that in the odor attribute we see that there is a much  clear pattern so for example we have the **almond** and **anise** and the result behind this is that it's actually 100% an edible mushrool, but then as we discussed **creostoe, fishy, foul, musty, pungent, and spicy** are actually the opposite and they are showing 100% posionous varieties, But what this does is that they make the odor a very heavily reliable predictor to utilize, but this could be also said for the same thing when it comes down to the spore print and it does show a very strong patterns as well. Like the colors **green** turning out to be 100% posionous and then we do have the others such as the **buff, orange, purple, yellow** actually being 100% edible and with the combination these two it can actually make a strong model classification, and they way that it's being interacted is that they both show the edibility patterns that is being presented in this work. When I visualized the information in the scatter plot we can really see an amount of edible and the poisonous mushrooms, and this would basically be a good evidence to basically show that it could be used for predictive modeling. The stats tend to display an percentages of the dible and the poisonous mushroom for each of the category that is presented. "
   ]
  },
  {
   "cell_type": "markdown",
   "id": "340b9a31",
   "metadata": {},
   "source": [
    "## Key accomplishments:\n",
    "\n",
    "1. **The data transformation**: We have managed to covert the cryptic single letter that was in the data and then we made it more meaningful which is easier for us to analyse and understand \n",
    "\n",
    "2. **The pattern displayed**: The analysis that is being shown is that it's identified the odor being the strongest predictor when it comes to the mushroom edibility that is be provided and then right after we see that spore print color does come in the second place, the findings that is being provided very valuable insights with it comes down to the classification and the identification of the mushroom \n",
    "\n",
    "3. **Visual communication**: With the visualization we start ot see the complexity and the relationship that is being presented  and in this data it's actually apparent, by using data visualization it a very powerful tool to display critical information and the discovery that is related to this work\n",
    "\n",
    "4. **Stats Calcualtion**: So by clacualting the percentage I have manage to provide a good measure when it comes down to the relationship that is being presented in the work.\n",
    "\n",
    "5. **Analysis-read data**: So at the end what I have decided to do is basically preprocess the dataset final, with the features so by making the format and cleaning the data and making sure this is ready for analytical use and various application that is provided "
   ]
  },
  {
   "cell_type": "markdown",
   "id": "7e69c106",
   "metadata": {},
   "source": [
    "## Implications that could be presented and usuable for\n",
    "\n",
    "From the finding of this analysis that I was working with this could actually be very useful and also very valuable for the mushroom foragers, mycologists, and this could also be used of course for educational context and getting a better idea, where mushroom with such attributes is edible and which one of them is actually poisonous and this is very critical element to understand. There is a strong sense of relationship when it comes down to the odor and the ediiblity is really significatn and it represents a characteristic evaluted without really having to utilize an equipment for this part"
   ]
  },
  {
   "cell_type": "markdown",
   "id": "ef19fb18",
   "metadata": {},
   "source": [
    "## Useage for the future! \n",
    "\n",
    "1. **Decision and the support tools**: With the preprocessed data this does have a usage for example the mobile applications that are used on mobile can really help identify edibility but depending on the characteristics if it's actually presented\n",
    "\n",
    "2. **Feature analysis**: There could definetly be a much more thorough investigation that could occur especially with other mushroom attributes that isn't really included with the focused analysis. \n",
    "\n",
    "3. **Classification**: The preprocessed data is notw structured and this is really good actually because again like I have stated we can work with this analysis and this could possibly be used in algorithms and with this it could be able to possibly predict a mushroom ediblity that would come with a high accuracy.\n",
    "\n",
    "4. **The visualiation interactivity**: Having an interactive adashboard could allow users to analyze and see the characteristics that comes with the mushroom and have an understand of the edibility\n",
    "\n",
    "The preprocessing and the analysis would basically display the first steps in that is usually presneted in the data scientist work flow, by having the ability to transform such raw data and getting to transform it to have an insight, we are basicalyl creating a foundation to have a better analytical approach and getting a better idea when it comes down to the pattern, understanding the metholodgy and of ofcourse understanding the food safety. "
   ]
  }
 ],
 "metadata": {
  "kernelspec": {
   "display_name": "Python 3",
   "language": "python",
   "name": "python3"
  },
  "language_info": {
   "codemirror_mode": {
    "name": "ipython",
    "version": 3
   },
   "file_extension": ".py",
   "mimetype": "text/x-python",
   "name": "python",
   "nbconvert_exporter": "python",
   "pygments_lexer": "ipython3",
   "version": "3.12.10"
  }
 },
 "nbformat": 4,
 "nbformat_minor": 5
}
